{
 "cells": [
  {
   "cell_type": "markdown",
   "id": "9eaff363",
   "metadata": {
    "pycharm": {
     "name": "#%% md\n"
    }
   },
   "source": [
    "# Retrieve Demo over Wikipedia\n",
    "\n",
    "This example demonstrates how to setup mindsearch and allows to retrieve simple wikipedia.\n",
    "\n",
    "Users can input a query or a question, this then uses semantic search to find relevant passages."
   ]
  },
  {
   "cell_type": "code",
   "execution_count": 6,
   "id": "1f3488f6",
   "metadata": {
    "pycharm": {
     "name": "#%%\n"
    }
   },
   "outputs": [],
   "source": [
    "import os\n",
    "import json\n",
    "import gzip\n",
    "import numpy as np\n",
    "\n",
    "import mindspore\n",
    "from mindspore import Tensor\n",
    "from mindsearch.inference.inference import BaseBiEncoderInference\n",
    "from mindsearch.bi_encoder.faiss_retriever import BaseFaissIPRetriever, search_queries\n",
    "from mindsearch.utils.data_utils import download_url"
   ]
  },
  {
   "cell_type": "markdown",
   "id": "85c8eea4",
   "metadata": {
    "pycharm": {
     "name": "#%% md\n"
    }
   },
   "source": [
    "First, download the pretrained model."
   ]
  },
  {
   "cell_type": "code",
   "execution_count": 7,
   "id": "efaace78",
   "metadata": {},
   "outputs": [],
   "source": [
    "model_ckpt_url = \"https://download.mindspore.cn/toolkits/mindsearch/retromae_base/mindspore_model.ckpt\"\n",
    "save_model_path = \"retromae_base.ckpt\"\n",
    "\n",
    "if not os.path.exists(save_model_path):\n",
    "    download_url(model_ckpt_url, save_model_path)"
   ]
  },
  {
   "cell_type": "markdown",
   "id": "18d84817",
   "metadata": {},
   "source": [
    "Then users should provide documents as the retrieve corpus. In this demo, we take wikipedia as an example."
   ]
  },
  {
   "cell_type": "code",
   "execution_count": 12,
   "id": "5dc0932c",
   "metadata": {
    "pycharm": {
     "is_executing": true,
     "name": "#%%\n"
    }
   },
   "outputs": [
    {
     "name": "stdout",
     "output_type": "stream",
     "text": [
      "Passages:  169597\n"
     ]
    }
   ],
   "source": [
    "vocab_path = \"vocab.txt\"\n",
    "config_path=\"config.json\"\n",
    "wikipedia_filepath = 'simplewiki-2020-11-01.jsonl.gz'\n",
    "\n",
    "if not os.path.exists(wikipedia_filepath):\n",
    "    download_url('http://sbert.net/datasets/simplewiki-2020-11-01.jsonl.gz', wikipedia_filepath)\n",
    "\n",
    "passages = []\n",
    "with gzip.open(wikipedia_filepath, 'rt', encoding='utf-8') as reader:\n",
    "    for line in reader:\n",
    "        data = json.loads(line.strip())\n",
    "        passages.append(data['paragraphs'][0])\n",
    "\n",
    "print(\"Passages: \", len(passages))"
   ]
  },
  {
   "cell_type": "code",
   "execution_count": 13,
   "id": "2ed53447",
   "metadata": {
    "pycharm": {
     "name": "#%%\n"
    }
   },
   "outputs": [],
   "source": [
    "mindspore.set_context(mode=mindspore.PYNATIVE_MODE, device_target=\"CPU\")"
   ]
  },
  {
   "cell_type": "markdown",
   "id": "15e4d844",
   "metadata": {},
   "source": [
    "All the documents will be inferenced by the model, and each document corresponds to a vector. Then the index can be built."
   ]
  },
  {
   "cell_type": "code",
   "execution_count": 14,
   "id": "0b181e62",
   "metadata": {
    "pycharm": {
     "name": "#%%\n"
    }
   },
   "outputs": [
    {
     "name": "stderr",
     "output_type": "stream",
     "text": [
      "2022-11-03 20:51:54,314 - modeling.py[line:175] - INFO : try loading tied weight\n",
      "2022-11-03 20:51:54,315 - modeling.py[line:176] - INFO : loading model weight from retromae_base.ckpt\n",
      "[WARNING] ME(33568:33280,MainProcess):2022-11-03-20:52:00.629.472 [mindspore\\dataset\\engine\\datasets_user_defined.py:656] Python multiprocessing is not supported on Windows platform.\n"
     ]
    }
   ],
   "source": [
    "inference = BaseBiEncoderInference(save_model_path, config_file=config_path, vocab_file=vocab_path)\n",
    "p_reps = inference.passage_batch_encode(passages, batch_size=8, use_tokenizer=True)\n",
    "\n",
    "p_reps = np.array(p_reps).astype('float32')\n",
    "retriever = BaseFaissIPRetriever(p_reps)"
   ]
  },
  {
   "cell_type": "markdown",
   "id": "b511351d",
   "metadata": {},
   "source": [
    "Finally, search by the input query, return the search results. "
   ]
  },
  {
   "cell_type": "code",
   "execution_count": 15,
   "id": "d641d7e4",
   "metadata": {
    "pycharm": {
     "name": "#%%\n"
    }
   },
   "outputs": [
    {
     "name": "stdout",
     "output_type": "stream",
     "text": [
      "Michael Te-Pei Chang (; born February 22, 1972) is an American retired tennis player. He was the youngest-ever male winner of a Grand Slam singles title. Michael Chang did this when he won the French Open in 1989 at the age of 17.\n",
      "Equus is a genus of mammals in the family Equidae. It includes horses, asses, and zebras. \"Equus\" is the only living (extant) genus of horses, and there are seven living species. They are the one-toed horses, and are adapted for living in various types of grasslands.\n",
      "Ted Cassidy (July 31, 1932 - January 16, 1979) was an American actor. He was best known for his roles as Lurch and Thing on \"The Addams Family\".\n",
      "Catalão is a Brazilian city in the state of Goiás. It has 75.623 inhabitants. It covers . It was founded in 1833 and is today an important industrial center of state of Goiás.\n",
      "216 Kleopatra is a Main belt asteroid found by Johann Palisa on April 10, 1880 in Pola. It is named after Cleopatra, the Queen of Egypt.\n",
      "In music, a suite (pronounce \"sweet\") is a collection of short musical pieces which can be played one after another. The pieces are usually dance movements. The French word “suite” means “a sequence” of things, i.e. one thing following another.\n",
      "Aileen Carol Wuornos Pralle (born Aileen Carol Pittman; February 29, 1956 – October 9, 2002) was an American serial killer. She was born in Rochester, Michigan. She confessed to killing six men in Florida and was executed in Florida State Prison by lethal injection for the murders. Wuornos said that the men she killed had raped her or tried to rape her while she was working as a prostitute.\n",
      "Store has several meanings:\n",
      "A crater is a round dent on a planet. They are usually shaped like a circle or an oval. They are usually made by something like a meteor hitting the surface of a planet. Underground activity such as volcanoes or explosions can also cause them but it's not as likely.\n",
      "Chinese New Year, known in China as the SpringFestival and in Singapore as the LunarNewYear, is a holiday on and around the new moon on the first day of the year in the traditional Chinese calendar. This calendar is based on the changes in the moon and is only sometimes changed to fit the seasons of the year based on how the Earth moves around the sun. Because of this, Chinese New Year is never on January1. It moves around between January21 and February20.\n",
      "The Seminole bat (\"Lasiurus seminolus\") is a type of bat in the family Vespertilionidae.\n",
      "The Seminole bat (\"Lasiurus seminolus\") is a type of bat in the family Vespertilionidae.\n",
      "The Seminole bat (\"Lasiurus seminolus\") is a type of bat in the family Vespertilionidae.\n",
      "The Seminole bat (\"Lasiurus seminolus\") is a type of bat in the family Vespertilionidae.\n",
      "The Seminole bat (\"Lasiurus seminolus\") is a type of bat in the family Vespertilionidae.\n",
      "The Seminole bat (\"Lasiurus seminolus\") is a type of bat in the family Vespertilionidae.\n",
      "The Seminole bat (\"Lasiurus seminolus\") is a type of bat in the family Vespertilionidae.\n",
      "The Seminole bat (\"Lasiurus seminolus\") is a type of bat in the family Vespertilionidae.\n",
      "The Seminole bat (\"Lasiurus seminolus\") is a type of bat in the family Vespertilionidae.\n",
      "The Seminole bat (\"Lasiurus seminolus\") is a type of bat in the family Vespertilionidae.\n"
     ]
    }
   ],
   "source": [
    "query = \"Paris eiffel tower\"\n",
    "q_reps = inference.query_single_encode(query)\n",
    "\n",
    "all_scores, psg_indices = search_queries(retriever, Tensor.asnumpy(q_reps))\n",
    "\n",
    "for indice in psg_indices.tolist()[0][:20]:\n",
    "    print(passages[indice])"
   ]
  },
  {
   "cell_type": "markdown",
   "id": "3071a03f",
   "metadata": {
    "pycharm": {
     "name": "#%% md\n"
    }
   },
   "source": [
    "You can use func`cosine_similarity` to calculate vector similarity"
   ]
  },
  {
   "cell_type": "code",
   "execution_count": 16,
   "id": "2a53f08e",
   "metadata": {},
   "outputs": [
    {
     "name": "stdout",
     "output_type": "stream",
     "text": [
      "similar score:  [[0.99999976]]\n"
     ]
    }
   ],
   "source": [
    "from mindsearch.utils.model_utils import cosine_similarity\n",
    "answer = \"Paris eiffel tower\"\n",
    "a_reps = inference.query_single_encode(answer)\n",
    "print(\"similar score: \", cosine_similarity(q_reps, a_reps))"
   ]
  }
 ],
 "metadata": {
  "kernelspec": {
   "display_name": "transform",
   "language": "python",
   "name": "transform"
  },
  "language_info": {
   "codemirror_mode": {
    "name": "ipython",
    "version": 3
   },
   "file_extension": ".py",
   "mimetype": "text/x-python",
   "name": "python",
   "nbconvert_exporter": "python",
   "pygments_lexer": "ipython3",
   "version": "3.7.12"
  }
 },
 "nbformat": 4,
 "nbformat_minor": 5
}
